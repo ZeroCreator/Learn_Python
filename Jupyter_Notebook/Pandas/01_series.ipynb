{
 "cells": [
  {
   "cell_type": "markdown",
   "id": "8dc5a93c",
   "metadata": {},
   "source": [
    "### Объект Series в Pandas"
   ]
  },
  {
   "cell_type": "code",
   "execution_count": 6,
   "id": "2e969c2b",
   "metadata": {},
   "outputs": [],
   "source": [
    "import pandas as pd"
   ]
  },
  {
   "cell_type": "code",
   "execution_count": 7,
   "id": "50bb2bf6",
   "metadata": {},
   "outputs": [
    {
     "data": {
      "text/plain": [
       "<module 'pandas' from 'C:\\\\Anaconda\\\\lib\\\\site-packages\\\\pandas\\\\__init__.py'>"
      ]
     },
     "execution_count": 7,
     "metadata": {},
     "output_type": "execute_result"
    }
   ],
   "source": [
    "pd"
   ]
  },
  {
   "cell_type": "code",
   "execution_count": 12,
   "id": "67804fa1",
   "metadata": {},
   "outputs": [],
   "source": [
    "a = [54, 0, 7, 43, 43]"
   ]
  },
  {
   "cell_type": "markdown",
   "id": "68a6fb1a",
   "metadata": {},
   "source": [
    "Создание серии - метод pd.Series()"
   ]
  },
  {
   "cell_type": "code",
   "execution_count": 13,
   "id": "67e23f98",
   "metadata": {
    "scrolled": false
   },
   "outputs": [
    {
     "data": {
      "text/plain": [
       "0    54\n",
       "1     0\n",
       "2     7\n",
       "3    43\n",
       "4    43\n",
       "dtype: int64"
      ]
     },
     "execution_count": 13,
     "metadata": {},
     "output_type": "execute_result"
    }
   ],
   "source": [
    "pd.Series(a)"
   ]
  },
  {
   "cell_type": "code",
   "execution_count": 14,
   "id": "86a958d8",
   "metadata": {},
   "outputs": [],
   "source": [
    "b = [True, False, True]"
   ]
  },
  {
   "cell_type": "code",
   "execution_count": 16,
   "id": "aa829bad",
   "metadata": {},
   "outputs": [],
   "source": [
    "s = pd.Series(b)"
   ]
  },
  {
   "cell_type": "code",
   "execution_count": 19,
   "id": "090a72cd",
   "metadata": {},
   "outputs": [
    {
     "data": {
      "text/plain": [
       "False"
      ]
     },
     "execution_count": 19,
     "metadata": {},
     "output_type": "execute_result"
    }
   ],
   "source": [
    "s[1]"
   ]
  },
  {
   "cell_type": "code",
   "execution_count": 21,
   "id": "129af8a4",
   "metadata": {},
   "outputs": [
    {
     "data": {
      "text/plain": [
       "0    10\n",
       "1    20\n",
       "2    30\n",
       "3    40\n",
       "4    50\n",
       "5    60\n",
       "6    70\n",
       "7    80\n",
       "8    90\n",
       "dtype: int64"
      ]
     },
     "execution_count": 21,
     "metadata": {},
     "output_type": "execute_result"
    }
   ],
   "source": [
    "pd.Series(range(10, 100, 10))"
   ]
  },
  {
   "cell_type": "code",
   "execution_count": 22,
   "id": "18dae933",
   "metadata": {},
   "outputs": [],
   "source": [
    "t = ['hello', 'world']"
   ]
  },
  {
   "cell_type": "code",
   "execution_count": 23,
   "id": "310124ac",
   "metadata": {},
   "outputs": [
    {
     "data": {
      "text/plain": [
       "0    hello\n",
       "1    world\n",
       "dtype: object"
      ]
     },
     "execution_count": 23,
     "metadata": {},
     "output_type": "execute_result"
    }
   ],
   "source": [
    "pd.Series(t)"
   ]
  },
  {
   "cell_type": "markdown",
   "id": "cf6675bd",
   "metadata": {},
   "source": [
    "Изменение ключей:"
   ]
  },
  {
   "cell_type": "code",
   "execution_count": 25,
   "id": "7b380e1c",
   "metadata": {
    "scrolled": true
   },
   "outputs": [],
   "source": [
    "r = pd.Series(t, [\"Привет\", \"мир\"])"
   ]
  },
  {
   "cell_type": "code",
   "execution_count": 26,
   "id": "dce08e69",
   "metadata": {},
   "outputs": [
    {
     "data": {
      "text/plain": [
       "Привет    hello\n",
       "мир       world\n",
       "dtype: object"
      ]
     },
     "execution_count": 26,
     "metadata": {},
     "output_type": "execute_result"
    }
   ],
   "source": [
    "r"
   ]
  },
  {
   "cell_type": "code",
   "execution_count": 28,
   "id": "625edbff",
   "metadata": {},
   "outputs": [
    {
     "data": {
      "text/plain": [
       "'hello'"
      ]
     },
     "execution_count": 28,
     "metadata": {},
     "output_type": "execute_result"
    }
   ],
   "source": [
    "r['Привет']"
   ]
  },
  {
   "cell_type": "code",
   "execution_count": 29,
   "id": "847cd995",
   "metadata": {},
   "outputs": [
    {
     "data": {
      "text/plain": [
       "'world'"
      ]
     },
     "execution_count": 29,
     "metadata": {},
     "output_type": "execute_result"
    }
   ],
   "source": [
    "r['мир']"
   ]
  },
  {
   "cell_type": "code",
   "execution_count": 30,
   "id": "649e8998",
   "metadata": {},
   "outputs": [
    {
     "data": {
      "text/plain": [
       "'hello'"
      ]
     },
     "execution_count": 30,
     "metadata": {},
     "output_type": "execute_result"
    }
   ],
   "source": [
    "r[0]"
   ]
  },
  {
   "cell_type": "code",
   "execution_count": 31,
   "id": "35ce6252",
   "metadata": {},
   "outputs": [
    {
     "data": {
      "text/plain": [
       "'world'"
      ]
     },
     "execution_count": 31,
     "metadata": {},
     "output_type": "execute_result"
    }
   ],
   "source": [
    "r[1]"
   ]
  },
  {
   "cell_type": "markdown",
   "id": "5f437749",
   "metadata": {},
   "source": [
    "Исполь зование словарей:"
   ]
  },
  {
   "cell_type": "code",
   "execution_count": 34,
   "id": "07b26f31",
   "metadata": {},
   "outputs": [],
   "source": [
    "d = {\"Привет\":'Hello', \"мир\":'world'}"
   ]
  },
  {
   "cell_type": "code",
   "execution_count": 37,
   "id": "66f46448",
   "metadata": {},
   "outputs": [],
   "source": [
    "t = pd.Series(d)"
   ]
  },
  {
   "cell_type": "code",
   "execution_count": 38,
   "id": "aa2cef26",
   "metadata": {},
   "outputs": [
    {
     "data": {
      "text/plain": [
       "'world'"
      ]
     },
     "execution_count": 38,
     "metadata": {},
     "output_type": "execute_result"
    }
   ],
   "source": [
    "t['мир'] "
   ]
  },
  {
   "cell_type": "code",
   "execution_count": 39,
   "id": "4f3cfb09",
   "metadata": {},
   "outputs": [
    {
     "data": {
      "text/plain": [
       "'world'"
      ]
     },
     "execution_count": 39,
     "metadata": {},
     "output_type": "execute_result"
    }
   ],
   "source": [
    "t[1]"
   ]
  },
  {
   "cell_type": "markdown",
   "id": "416856f4",
   "metadata": {},
   "source": [
    "Использование строк:"
   ]
  },
  {
   "cell_type": "code",
   "execution_count": 42,
   "id": "f3f8494a",
   "metadata": {},
   "outputs": [],
   "source": [
    "a = pd.Series('asdfgvbhfdj   hjgfdn kfd')"
   ]
  },
  {
   "cell_type": "code",
   "execution_count": 43,
   "id": "700d02ab",
   "metadata": {},
   "outputs": [
    {
     "data": {
      "text/plain": [
       "'asdfgvbhfdj   hjgfdn kfd'"
      ]
     },
     "execution_count": 43,
     "metadata": {},
     "output_type": "execute_result"
    }
   ],
   "source": [
    "a[0]"
   ]
  },
  {
   "cell_type": "markdown",
   "id": "30ebf3f0",
   "metadata": {},
   "source": [
    "Строку оборачиываем в функцию list()"
   ]
  },
  {
   "cell_type": "code",
   "execution_count": 44,
   "id": "e2213cdf",
   "metadata": {},
   "outputs": [],
   "source": [
    "a = pd.Series(list('asdfgvbhfdj   hjgfdn kfd'))"
   ]
  },
  {
   "cell_type": "code",
   "execution_count": 45,
   "id": "684727cc",
   "metadata": {},
   "outputs": [
    {
     "data": {
      "text/plain": [
       "'a'"
      ]
     },
     "execution_count": 45,
     "metadata": {},
     "output_type": "execute_result"
    }
   ],
   "source": [
    "a[0]"
   ]
  },
  {
   "cell_type": "code",
   "execution_count": 46,
   "id": "6779f160",
   "metadata": {},
   "outputs": [
    {
     "data": {
      "text/plain": [
       "'v'"
      ]
     },
     "execution_count": 46,
     "metadata": {},
     "output_type": "execute_result"
    }
   ],
   "source": [
    "a[5]"
   ]
  },
  {
   "cell_type": "code",
   "execution_count": null,
   "id": "0df7bccc",
   "metadata": {},
   "outputs": [],
   "source": []
  }
 ],
 "metadata": {
  "kernelspec": {
   "display_name": "Python 3",
   "language": "python",
   "name": "python3"
  },
  "language_info": {
   "codemirror_mode": {
    "name": "ipython",
    "version": 3
   },
   "file_extension": ".py",
   "mimetype": "text/x-python",
   "name": "python",
   "nbconvert_exporter": "python",
   "pygments_lexer": "ipython3",
   "version": "3.8.8"
  }
 },
 "nbformat": 4,
 "nbformat_minor": 5
}
