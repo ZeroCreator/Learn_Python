{
 "cells": [
  {
   "cell_type": "markdown",
   "id": "32d5533b",
   "metadata": {},
   "source": [
    "### Операции над Series"
   ]
  },
  {
   "cell_type": "code",
   "execution_count": 6,
   "id": "171ce2fb",
   "metadata": {},
   "outputs": [],
   "source": [
    "import pandas as pd"
   ]
  },
  {
   "cell_type": "code",
   "execution_count": 7,
   "id": "cd82afe9",
   "metadata": {},
   "outputs": [],
   "source": [
    "a = [54, 86, 36, 78, 3, 23, 4, 19, 5, 60]"
   ]
  },
  {
   "cell_type": "code",
   "execution_count": 8,
   "id": "5ef8d4c5",
   "metadata": {},
   "outputs": [],
   "source": [
    "data = pd.Series(a)"
   ]
  },
  {
   "cell_type": "code",
   "execution_count": 9,
   "id": "1bd63e22",
   "metadata": {},
   "outputs": [
    {
     "data": {
      "text/plain": [
       "0    54\n",
       "1    86\n",
       "2    36\n",
       "3    78\n",
       "4     3\n",
       "5    23\n",
       "6     4\n",
       "7    19\n",
       "8     5\n",
       "9    60\n",
       "dtype: int64"
      ]
     },
     "execution_count": 9,
     "metadata": {},
     "output_type": "execute_result"
    }
   ],
   "source": [
    "data"
   ]
  },
  {
   "cell_type": "markdown",
   "id": "9c060f39",
   "metadata": {},
   "source": [
    "1. Операции над числами:"
   ]
  },
  {
   "cell_type": "raw",
   "id": "fab3f53b",
   "metadata": {},
   "source": [
    "К каждому значению серии при выводе добавлена 2, значение при этом не меняется:"
   ]
  },
  {
   "cell_type": "code",
   "execution_count": 11,
   "id": "69a5ac0e",
   "metadata": {},
   "outputs": [
    {
     "data": {
      "text/plain": [
       "0    56\n",
       "1    88\n",
       "2    38\n",
       "3    80\n",
       "4     5\n",
       "5    25\n",
       "6     6\n",
       "7    21\n",
       "8     7\n",
       "9    62\n",
       "dtype: int64"
      ]
     },
     "execution_count": 11,
     "metadata": {},
     "output_type": "execute_result"
    }
   ],
   "source": [
    "data + 2"
   ]
  },
  {
   "cell_type": "code",
   "execution_count": 12,
   "id": "9b908abb",
   "metadata": {},
   "outputs": [
    {
     "data": {
      "text/plain": [
       "54"
      ]
     },
     "execution_count": 12,
     "metadata": {},
     "output_type": "execute_result"
    }
   ],
   "source": [
    "data[0]"
   ]
  },
  {
   "cell_type": "markdown",
   "id": "f4342887",
   "metadata": {},
   "source": [
    "Чтобы изменить саму серию:"
   ]
  },
  {
   "cell_type": "code",
   "execution_count": 15,
   "id": "1822a6f4",
   "metadata": {},
   "outputs": [],
   "source": [
    "data = data + 2"
   ]
  },
  {
   "cell_type": "code",
   "execution_count": 16,
   "id": "89ffc943",
   "metadata": {},
   "outputs": [
    {
     "data": {
      "text/plain": [
       "0    58\n",
       "1    90\n",
       "2    40\n",
       "3    82\n",
       "4     7\n",
       "5    27\n",
       "6     8\n",
       "7    23\n",
       "8     9\n",
       "9    64\n",
       "dtype: int64"
      ]
     },
     "execution_count": 16,
     "metadata": {},
     "output_type": "execute_result"
    }
   ],
   "source": [
    "data"
   ]
  },
  {
   "cell_type": "code",
   "execution_count": 17,
   "id": "ac87ca78",
   "metadata": {},
   "outputs": [
    {
     "data": {
      "text/plain": [
       "58"
      ]
     },
     "execution_count": 17,
     "metadata": {},
     "output_type": "execute_result"
    }
   ],
   "source": [
    "data[0]"
   ]
  },
  {
   "cell_type": "code",
   "execution_count": 18,
   "id": "b11c5694",
   "metadata": {},
   "outputs": [],
   "source": [
    "data = data - 2"
   ]
  },
  {
   "cell_type": "code",
   "execution_count": 19,
   "id": "bc7c31d2",
   "metadata": {},
   "outputs": [
    {
     "data": {
      "text/plain": [
       "56"
      ]
     },
     "execution_count": 19,
     "metadata": {},
     "output_type": "execute_result"
    }
   ],
   "source": [
    "data[0]"
   ]
  },
  {
   "cell_type": "code",
   "execution_count": 20,
   "id": "60410ebf",
   "metadata": {},
   "outputs": [
    {
     "data": {
      "text/plain": [
       "0    112\n",
       "1    176\n",
       "2     76\n",
       "3    160\n",
       "4     10\n",
       "5     50\n",
       "6     12\n",
       "7     42\n",
       "8     14\n",
       "9    124\n",
       "dtype: int64"
      ]
     },
     "execution_count": 20,
     "metadata": {},
     "output_type": "execute_result"
    }
   ],
   "source": [
    "data*2"
   ]
  },
  {
   "cell_type": "code",
   "execution_count": 21,
   "id": "3759d0e8",
   "metadata": {},
   "outputs": [
    {
     "data": {
      "text/plain": [
       "56"
      ]
     },
     "execution_count": 21,
     "metadata": {},
     "output_type": "execute_result"
    }
   ],
   "source": [
    "data[0]"
   ]
  },
  {
   "cell_type": "code",
   "execution_count": 22,
   "id": "6c3c64a3",
   "metadata": {},
   "outputs": [
    {
     "data": {
      "text/plain": [
       "0    28.0\n",
       "1    44.0\n",
       "2    19.0\n",
       "3    40.0\n",
       "4     2.5\n",
       "5    12.5\n",
       "6     3.0\n",
       "7    10.5\n",
       "8     3.5\n",
       "9    31.0\n",
       "dtype: float64"
      ]
     },
     "execution_count": 22,
     "metadata": {},
     "output_type": "execute_result"
    }
   ],
   "source": [
    "data/2"
   ]
  },
  {
   "cell_type": "code",
   "execution_count": 23,
   "id": "6a517975",
   "metadata": {},
   "outputs": [
    {
     "data": {
      "text/plain": [
       "0    0\n",
       "1    0\n",
       "2    0\n",
       "3    0\n",
       "4    1\n",
       "5    1\n",
       "6    0\n",
       "7    1\n",
       "8    1\n",
       "9    0\n",
       "dtype: int64"
      ]
     },
     "execution_count": 23,
     "metadata": {},
     "output_type": "execute_result"
    }
   ],
   "source": [
    "data%2"
   ]
  },
  {
   "cell_type": "code",
   "execution_count": 24,
   "id": "18d42552",
   "metadata": {},
   "outputs": [
    {
     "data": {
      "text/plain": [
       "0    28\n",
       "1    44\n",
       "2    19\n",
       "3    40\n",
       "4     2\n",
       "5    12\n",
       "6     3\n",
       "7    10\n",
       "8     3\n",
       "9    31\n",
       "dtype: int64"
      ]
     },
     "execution_count": 24,
     "metadata": {},
     "output_type": "execute_result"
    }
   ],
   "source": [
    "data//2"
   ]
  },
  {
   "cell_type": "code",
   "execution_count": 25,
   "id": "f0d9b244",
   "metadata": {},
   "outputs": [
    {
     "data": {
      "text/plain": [
       "0    3136\n",
       "1    7744\n",
       "2    1444\n",
       "3    6400\n",
       "4      25\n",
       "5     625\n",
       "6      36\n",
       "7     441\n",
       "8      49\n",
       "9    3844\n",
       "dtype: int64"
      ]
     },
     "execution_count": 25,
     "metadata": {},
     "output_type": "execute_result"
    }
   ],
   "source": [
    "data**2"
   ]
  },
  {
   "cell_type": "code",
   "execution_count": 26,
   "id": "72707787",
   "metadata": {},
   "outputs": [
    {
     "data": {
      "text/plain": [
       "(0    1\n",
       " 1    1\n",
       " 2    1\n",
       " 3    1\n",
       " 4    1\n",
       " 5    1\n",
       " 6    1\n",
       " 7    1\n",
       " 8    1\n",
       " 9    1\n",
       " dtype: int64,\n",
       " 5)"
      ]
     },
     "execution_count": 26,
     "metadata": {},
     "output_type": "execute_result"
    }
   ],
   "source": [
    "data**0,5"
   ]
  },
  {
   "cell_type": "code",
   "execution_count": 27,
   "id": "ac226dae",
   "metadata": {},
   "outputs": [
    {
     "data": {
      "text/plain": [
       "0    56\n",
       "1    88\n",
       "2    38\n",
       "3    80\n",
       "4     5\n",
       "5    25\n",
       "6     6\n",
       "7    21\n",
       "8     7\n",
       "9    62\n",
       "dtype: int64"
      ]
     },
     "execution_count": 27,
     "metadata": {},
     "output_type": "execute_result"
    }
   ],
   "source": [
    "data"
   ]
  },
  {
   "cell_type": "markdown",
   "id": "f565a214",
   "metadata": {},
   "source": [
    "Операции сравнения. Сравнивается каждое значение серии:"
   ]
  },
  {
   "cell_type": "code",
   "execution_count": 28,
   "id": "ef47877c",
   "metadata": {
    "scrolled": true
   },
   "outputs": [
    {
     "data": {
      "text/plain": [
       "0     True\n",
       "1     True\n",
       "2    False\n",
       "3     True\n",
       "4    False\n",
       "5    False\n",
       "6    False\n",
       "7    False\n",
       "8    False\n",
       "9     True\n",
       "dtype: bool"
      ]
     },
     "execution_count": 28,
     "metadata": {},
     "output_type": "execute_result"
    }
   ],
   "source": [
    "data > 45"
   ]
  },
  {
   "cell_type": "code",
   "execution_count": 29,
   "id": "02c0b042",
   "metadata": {},
   "outputs": [
    {
     "data": {
      "text/plain": [
       "0    False\n",
       "1    False\n",
       "2     True\n",
       "3    False\n",
       "4     True\n",
       "5     True\n",
       "6     True\n",
       "7     True\n",
       "8     True\n",
       "9    False\n",
       "dtype: bool"
      ]
     },
     "execution_count": 29,
     "metadata": {},
     "output_type": "execute_result"
    }
   ],
   "source": [
    "data <= 45"
   ]
  },
  {
   "cell_type": "code",
   "execution_count": 31,
   "id": "58daa57a",
   "metadata": {},
   "outputs": [
    {
     "data": {
      "text/plain": [
       "0    False\n",
       "1     True\n",
       "2    False\n",
       "3    False\n",
       "4    False\n",
       "5    False\n",
       "6    False\n",
       "7    False\n",
       "8    False\n",
       "9    False\n",
       "dtype: bool"
      ]
     },
     "execution_count": 31,
     "metadata": {},
     "output_type": "execute_result"
    }
   ],
   "source": [
    "data == 88"
   ]
  },
  {
   "cell_type": "markdown",
   "id": "35c0d06f",
   "metadata": {},
   "source": [
    "Применение втроенных функций:"
   ]
  },
  {
   "cell_type": "code",
   "execution_count": 32,
   "id": "591e23dd",
   "metadata": {},
   "outputs": [
    {
     "data": {
      "text/plain": [
       "88"
      ]
     },
     "execution_count": 32,
     "metadata": {},
     "output_type": "execute_result"
    }
   ],
   "source": [
    "max(data)"
   ]
  },
  {
   "cell_type": "code",
   "execution_count": 33,
   "id": "b59375be",
   "metadata": {},
   "outputs": [
    {
     "data": {
      "text/plain": [
       "5"
      ]
     },
     "execution_count": 33,
     "metadata": {},
     "output_type": "execute_result"
    }
   ],
   "source": [
    "min(data)"
   ]
  },
  {
   "cell_type": "code",
   "execution_count": 34,
   "id": "0208ef3e",
   "metadata": {},
   "outputs": [
    {
     "data": {
      "text/plain": [
       "388"
      ]
     },
     "execution_count": 34,
     "metadata": {},
     "output_type": "execute_result"
    }
   ],
   "source": [
    "sum(data)"
   ]
  },
  {
   "cell_type": "code",
   "execution_count": 36,
   "id": "809df64d",
   "metadata": {},
   "outputs": [
    {
     "data": {
      "text/plain": [
       "[5, 6, 7, 21, 25, 38, 56, 62, 80, 88]"
      ]
     },
     "execution_count": 36,
     "metadata": {},
     "output_type": "execute_result"
    }
   ],
   "source": [
    "sorted(data)"
   ]
  },
  {
   "cell_type": "code",
   "execution_count": 37,
   "id": "4bfb7a0a",
   "metadata": {},
   "outputs": [
    {
     "data": {
      "text/plain": [
       "[56, 88, 38, 80, 5, 25, 6, 21, 7, 62]"
      ]
     },
     "execution_count": 37,
     "metadata": {},
     "output_type": "execute_result"
    }
   ],
   "source": [
    "list(data)"
   ]
  },
  {
   "cell_type": "code",
   "execution_count": 38,
   "id": "57450e17",
   "metadata": {},
   "outputs": [
    {
     "data": {
      "text/plain": [
       "(56, 88, 38, 80, 5, 25, 6, 21, 7, 62)"
      ]
     },
     "execution_count": 38,
     "metadata": {},
     "output_type": "execute_result"
    }
   ],
   "source": [
    "tuple(data)"
   ]
  },
  {
   "cell_type": "code",
   "execution_count": 58,
   "id": "6a39e145",
   "metadata": {},
   "outputs": [
    {
     "data": {
      "text/plain": [
       "10"
      ]
     },
     "execution_count": 58,
     "metadata": {},
     "output_type": "execute_result"
    }
   ],
   "source": [
    "len(data)"
   ]
  },
  {
   "cell_type": "markdown",
   "id": "bcfaa5bd",
   "metadata": {},
   "source": [
    "Набор уникальных множеств без дублей:"
   ]
  },
  {
   "cell_type": "code",
   "execution_count": 39,
   "id": "6f92a269",
   "metadata": {},
   "outputs": [
    {
     "data": {
      "text/plain": [
       "{5, 6, 7, 21, 25, 38, 56, 62, 80, 88}"
      ]
     },
     "execution_count": 39,
     "metadata": {},
     "output_type": "execute_result"
    }
   ],
   "source": [
    "set(data)"
   ]
  },
  {
   "cell_type": "markdown",
   "id": "b7ffe95a",
   "metadata": {},
   "source": [
    "2. Операции со строками:"
   ]
  },
  {
   "cell_type": "code",
   "execution_count": 45,
   "id": "74ecf5cb",
   "metadata": {},
   "outputs": [],
   "source": [
    "b = ['Hello', 'world', 'hi']"
   ]
  },
  {
   "cell_type": "markdown",
   "id": "baf48933",
   "metadata": {},
   "source": [
    "На основании списка создаем серию:"
   ]
  },
  {
   "cell_type": "code",
   "execution_count": 51,
   "id": "a65598cd",
   "metadata": {
    "scrolled": true
   },
   "outputs": [],
   "source": [
    "s = pd.Series(b)"
   ]
  },
  {
   "cell_type": "code",
   "execution_count": 52,
   "id": "d5912d92",
   "metadata": {},
   "outputs": [
    {
     "data": {
      "text/plain": [
       "0    Hello\n",
       "1    world\n",
       "2       hi\n",
       "dtype: object"
      ]
     },
     "execution_count": 52,
     "metadata": {},
     "output_type": "execute_result"
    }
   ],
   "source": [
    "s"
   ]
  },
  {
   "cell_type": "code",
   "execution_count": 53,
   "id": "4dc5319a",
   "metadata": {},
   "outputs": [
    {
     "data": {
      "text/plain": [
       "0    Helloabs\n",
       "1    worldabs\n",
       "2       hiabs\n",
       "dtype: object"
      ]
     },
     "execution_count": 53,
     "metadata": {},
     "output_type": "execute_result"
    }
   ],
   "source": [
    "s + 'abs'"
   ]
  },
  {
   "cell_type": "code",
   "execution_count": 54,
   "id": "51d6cfe6",
   "metadata": {},
   "outputs": [
    {
     "data": {
      "text/plain": [
       "0    HelloHello\n",
       "1    worldworld\n",
       "2          hihi\n",
       "dtype: object"
      ]
     },
     "execution_count": 54,
     "metadata": {},
     "output_type": "execute_result"
    }
   ],
   "source": [
    "s*2"
   ]
  },
  {
   "cell_type": "markdown",
   "id": "bd45ba15",
   "metadata": {},
   "source": [
    "Сравнение строк:"
   ]
  },
  {
   "cell_type": "code",
   "execution_count": 56,
   "id": "65cc3dde",
   "metadata": {},
   "outputs": [
    {
     "data": {
      "text/plain": [
       "0    False\n",
       "1     True\n",
       "2     True\n",
       "dtype: bool"
      ]
     },
     "execution_count": 56,
     "metadata": {},
     "output_type": "execute_result"
    }
   ],
   "source": [
    "s > 'abc'"
   ]
  },
  {
   "cell_type": "code",
   "execution_count": 57,
   "id": "5caa876c",
   "metadata": {},
   "outputs": [
    {
     "data": {
      "text/plain": [
       "3"
      ]
     },
     "execution_count": 57,
     "metadata": {},
     "output_type": "execute_result"
    }
   ],
   "source": [
    "len(s)"
   ]
  },
  {
   "cell_type": "code",
   "execution_count": null,
   "id": "f00db1c6",
   "metadata": {},
   "outputs": [],
   "source": []
  }
 ],
 "metadata": {
  "kernelspec": {
   "display_name": "Python 3",
   "language": "python",
   "name": "python3"
  },
  "language_info": {
   "codemirror_mode": {
    "name": "ipython",
    "version": 3
   },
   "file_extension": ".py",
   "mimetype": "text/x-python",
   "name": "python",
   "nbconvert_exporter": "python",
   "pygments_lexer": "ipython3",
   "version": "3.8.8"
  }
 },
 "nbformat": 4,
 "nbformat_minor": 5
}
