{
 "cells": [
  {
   "cell_type": "markdown",
   "id": "d938d4fd",
   "metadata": {},
   "source": [
    "### Методы класса Series"
   ]
  },
  {
   "cell_type": "markdown",
   "id": "c87f231e",
   "metadata": {},
   "source": [
    "Метод - возможность вашего обекта выполнять какое-то действие или выполнять какую-то свою определенную функцию.\n",
    "Метод - это действие (или функция). Метод вызывается: ()."
   ]
  },
  {
   "cell_type": "code",
   "execution_count": 1,
   "id": "93c27c34",
   "metadata": {},
   "outputs": [],
   "source": [
    "import pandas as pd"
   ]
  },
  {
   "cell_type": "code",
   "execution_count": 3,
   "id": "21f2547f",
   "metadata": {},
   "outputs": [],
   "source": [
    "names = ['Bob', 'Jack', 'Kevin', 'Robin']\n",
    "numbers = [10, 20, 30, 40, 50]"
   ]
  },
  {
   "cell_type": "code",
   "execution_count": 4,
   "id": "b8a40532",
   "metadata": {},
   "outputs": [],
   "source": [
    "s = pd.Series(names)\n",
    "nums = pd.Series(numbers)"
   ]
  },
  {
   "cell_type": "code",
   "execution_count": 7,
   "id": "516e6e3e",
   "metadata": {},
   "outputs": [
    {
     "data": {
      "text/plain": [
       "0      Bob\n",
       "1     Jack\n",
       "2    Kevin\n",
       "3    Robin\n",
       "dtype: object"
      ]
     },
     "execution_count": 7,
     "metadata": {},
     "output_type": "execute_result"
    }
   ],
   "source": [
    "s"
   ]
  },
  {
   "cell_type": "code",
   "execution_count": 8,
   "id": "f93f6902",
   "metadata": {},
   "outputs": [
    {
     "data": {
      "text/plain": [
       "0    10\n",
       "1    20\n",
       "2    30\n",
       "3    40\n",
       "4    50\n",
       "dtype: int64"
      ]
     },
     "execution_count": 8,
     "metadata": {},
     "output_type": "execute_result"
    }
   ],
   "source": [
    "nums"
   ]
  },
  {
   "cell_type": "code",
   "execution_count": 9,
   "id": "76f8a18d",
   "metadata": {},
   "outputs": [
    {
     "data": {
      "text/plain": [
       "150"
      ]
     },
     "execution_count": 9,
     "metadata": {},
     "output_type": "execute_result"
    }
   ],
   "source": [
    "nums.sum()"
   ]
  },
  {
   "cell_type": "code",
   "execution_count": 10,
   "id": "b5c15d9d",
   "metadata": {},
   "outputs": [
    {
     "data": {
      "text/plain": [
       "150"
      ]
     },
     "execution_count": 10,
     "metadata": {},
     "output_type": "execute_result"
    }
   ],
   "source": [
    "sum(nums)"
   ]
  },
  {
   "cell_type": "code",
   "execution_count": 14,
   "id": "f079a05a",
   "metadata": {},
   "outputs": [
    {
     "data": {
      "text/plain": [
       "(50, 50)"
      ]
     },
     "execution_count": 14,
     "metadata": {},
     "output_type": "execute_result"
    }
   ],
   "source": [
    "nums.max(), max(nums)"
   ]
  },
  {
   "cell_type": "code",
   "execution_count": 15,
   "id": "e6ef170c",
   "metadata": {},
   "outputs": [
    {
     "data": {
      "text/plain": [
       "(10, 10)"
      ]
     },
     "execution_count": 15,
     "metadata": {},
     "output_type": "execute_result"
    }
   ],
   "source": [
    "nums.min(), min(nums)"
   ]
  },
  {
   "cell_type": "markdown",
   "id": "0bd599eb",
   "metadata": {},
   "source": [
    "Произведение всех значений серии - метод .product():"
   ]
  },
  {
   "cell_type": "code",
   "execution_count": 16,
   "id": "09fdd2ad",
   "metadata": {},
   "outputs": [
    {
     "data": {
      "text/plain": [
       "12000000"
      ]
     },
     "execution_count": 16,
     "metadata": {},
     "output_type": "execute_result"
    }
   ],
   "source": [
    "nums.product()"
   ]
  },
  {
   "cell_type": "code",
   "execution_count": 17,
   "id": "8272fa8c",
   "metadata": {},
   "outputs": [
    {
     "data": {
      "text/plain": [
       "6"
      ]
     },
     "execution_count": 17,
     "metadata": {},
     "output_type": "execute_result"
    }
   ],
   "source": [
    "pd.Series([1, 2, 3]).product()"
   ]
  },
  {
   "cell_type": "markdown",
   "id": "8788be3c",
   "metadata": {},
   "source": [
    "Среднее значение - метод .mean():"
   ]
  },
  {
   "cell_type": "code",
   "execution_count": 20,
   "id": "0582ef76",
   "metadata": {},
   "outputs": [
    {
     "data": {
      "text/plain": [
       "30.0"
      ]
     },
     "execution_count": 20,
     "metadata": {},
     "output_type": "execute_result"
    }
   ],
   "source": [
    "nums.mean()"
   ]
  },
  {
   "cell_type": "code",
   "execution_count": 22,
   "id": "6a478ebb",
   "metadata": {},
   "outputs": [
    {
     "data": {
      "text/plain": [
       "dtype('int64')"
      ]
     },
     "execution_count": 22,
     "metadata": {},
     "output_type": "execute_result"
    }
   ],
   "source": [
    "nums.dtype"
   ]
  },
  {
   "cell_type": "code",
   "execution_count": 23,
   "id": "155658ca",
   "metadata": {},
   "outputs": [
    {
     "data": {
      "text/plain": [
       "0      Bob\n",
       "1     Jack\n",
       "2    Kevin\n",
       "3    Robin\n",
       "dtype: object"
      ]
     },
     "execution_count": 23,
     "metadata": {},
     "output_type": "execute_result"
    }
   ],
   "source": [
    "s"
   ]
  },
  {
   "cell_type": "code",
   "execution_count": 24,
   "id": "0797e3e1",
   "metadata": {},
   "outputs": [
    {
     "data": {
      "text/plain": [
       "'BobJackKevinRobin'"
      ]
     },
     "execution_count": 24,
     "metadata": {},
     "output_type": "execute_result"
    }
   ],
   "source": [
    "s.sum()"
   ]
  },
  {
   "cell_type": "code",
   "execution_count": 25,
   "id": "087f2850",
   "metadata": {},
   "outputs": [
    {
     "data": {
      "text/plain": [
       "'Robin'"
      ]
     },
     "execution_count": 25,
     "metadata": {},
     "output_type": "execute_result"
    }
   ],
   "source": [
    "s.max()"
   ]
  },
  {
   "cell_type": "code",
   "execution_count": 26,
   "id": "6d643ea1",
   "metadata": {},
   "outputs": [
    {
     "data": {
      "text/plain": [
       "'Bob'"
      ]
     },
     "execution_count": 26,
     "metadata": {},
     "output_type": "execute_result"
    }
   ],
   "source": [
    "s.min()"
   ]
  },
  {
   "cell_type": "markdown",
   "id": "c3400253",
   "metadata": {},
   "source": [
    "Некоторые методы требуют передачи дополнительных значений:"
   ]
  },
  {
   "cell_type": "code",
   "execution_count": 27,
   "id": "6fc39f11",
   "metadata": {},
   "outputs": [
    {
     "data": {
      "text/plain": [
       "0    False\n",
       "1    False\n",
       "2    False\n",
       "3    False\n",
       "4    False\n",
       "dtype: bool"
      ]
     },
     "execution_count": 27,
     "metadata": {},
     "output_type": "execute_result"
    }
   ],
   "source": [
    "nums.lt(2)"
   ]
  },
  {
   "cell_type": "code",
   "execution_count": 28,
   "id": "97f709bc",
   "metadata": {},
   "outputs": [
    {
     "data": {
      "text/plain": [
       "0    False\n",
       "1    False\n",
       "2    False\n",
       "3    False\n",
       "4    False\n",
       "dtype: bool"
      ]
     },
     "execution_count": 28,
     "metadata": {},
     "output_type": "execute_result"
    }
   ],
   "source": [
    "nums < 2"
   ]
  },
  {
   "cell_type": "code",
   "execution_count": 29,
   "id": "655a96c2",
   "metadata": {},
   "outputs": [
    {
     "data": {
      "text/plain": [
       "0    False\n",
       "1     True\n",
       "2     True\n",
       "3     True\n",
       "4     True\n",
       "dtype: bool"
      ]
     },
     "execution_count": 29,
     "metadata": {},
     "output_type": "execute_result"
    }
   ],
   "source": [
    "nums.gt(11)"
   ]
  },
  {
   "cell_type": "code",
   "execution_count": 30,
   "id": "d94318bf",
   "metadata": {},
   "outputs": [
    {
     "data": {
      "text/plain": [
       "0    False\n",
       "1     True\n",
       "2     True\n",
       "3     True\n",
       "4     True\n",
       "dtype: bool"
      ]
     },
     "execution_count": 30,
     "metadata": {},
     "output_type": "execute_result"
    }
   ],
   "source": [
    "nums > 11"
   ]
  },
  {
   "cell_type": "raw",
   "id": "7c3c58cf",
   "metadata": {},
   "source": [
    "Проверка на равенство - метод .eq():"
   ]
  },
  {
   "cell_type": "code",
   "execution_count": 31,
   "id": "44f5c862",
   "metadata": {},
   "outputs": [
    {
     "data": {
      "text/plain": [
       "0    False\n",
       "1     True\n",
       "2    False\n",
       "3    False\n",
       "4    False\n",
       "dtype: bool"
      ]
     },
     "execution_count": 31,
     "metadata": {},
     "output_type": "execute_result"
    }
   ],
   "source": [
    "nums.eq(20)"
   ]
  },
  {
   "cell_type": "markdown",
   "id": "d439f7ad",
   "metadata": {},
   "source": [
    "Проверка на неравенство - метод .ne():"
   ]
  },
  {
   "cell_type": "code",
   "execution_count": 33,
   "id": "1763157b",
   "metadata": {},
   "outputs": [
    {
     "data": {
      "text/plain": [
       "0     True\n",
       "1     True\n",
       "2     True\n",
       "3     True\n",
       "4    False\n",
       "dtype: bool"
      ]
     },
     "execution_count": 33,
     "metadata": {},
     "output_type": "execute_result"
    }
   ],
   "source": [
    "nums.ne(50)"
   ]
  },
  {
   "cell_type": "markdown",
   "id": "2930f09b",
   "metadata": {},
   "source": [
    "/>= - метод .ge():"
   ]
  },
  {
   "cell_type": "code",
   "execution_count": 34,
   "id": "b86f84ac",
   "metadata": {},
   "outputs": [
    {
     "data": {
      "text/plain": [
       "0    False\n",
       "1    False\n",
       "2    False\n",
       "3     True\n",
       "4     True\n",
       "dtype: bool"
      ]
     },
     "execution_count": 34,
     "metadata": {},
     "output_type": "execute_result"
    }
   ],
   "source": [
    "nums.ge(31)"
   ]
  },
  {
   "cell_type": "markdown",
   "id": "e2250cdf",
   "metadata": {},
   "source": [
    "/<= - метод .le():"
   ]
  },
  {
   "cell_type": "code",
   "execution_count": 35,
   "id": "fe8f24bd",
   "metadata": {},
   "outputs": [
    {
     "data": {
      "text/plain": [
       "0     True\n",
       "1     True\n",
       "2    False\n",
       "3    False\n",
       "4    False\n",
       "dtype: bool"
      ]
     },
     "execution_count": 35,
     "metadata": {},
     "output_type": "execute_result"
    }
   ],
   "source": [
    "nums.le(20)"
   ]
  },
  {
   "cell_type": "markdown",
   "id": "07b815c3",
   "metadata": {},
   "source": [
    "Нахождение модуля числа - метод .abs():"
   ]
  },
  {
   "cell_type": "code",
   "execution_count": 36,
   "id": "c585c6e8",
   "metadata": {},
   "outputs": [
    {
     "data": {
      "text/plain": [
       "0    10\n",
       "1     5\n",
       "2    67\n",
       "3     4\n",
       "4    95\n",
       "dtype: int64"
      ]
     },
     "execution_count": 36,
     "metadata": {},
     "output_type": "execute_result"
    }
   ],
   "source": [
    "pd.Series([-10, 5, -67, 4, 95]).abs()"
   ]
  },
  {
   "cell_type": "code",
   "execution_count": 37,
   "id": "1d609402",
   "metadata": {},
   "outputs": [],
   "source": [
    "a = [-10, 5, -67, 4, 95]"
   ]
  },
  {
   "cell_type": "code",
   "execution_count": 40,
   "id": "2b05631f",
   "metadata": {},
   "outputs": [],
   "source": [
    "b = pd.Series(a)"
   ]
  },
  {
   "cell_type": "code",
   "execution_count": 41,
   "id": "da5ab7db",
   "metadata": {},
   "outputs": [
    {
     "data": {
      "text/plain": [
       "0   -10\n",
       "1     5\n",
       "2   -67\n",
       "3     4\n",
       "4    95\n",
       "dtype: int64"
      ]
     },
     "execution_count": 41,
     "metadata": {},
     "output_type": "execute_result"
    }
   ],
   "source": [
    "b"
   ]
  },
  {
   "cell_type": "code",
   "execution_count": 43,
   "id": "687fc6fa",
   "metadata": {},
   "outputs": [
    {
     "data": {
      "text/plain": [
       "0    10\n",
       "1     5\n",
       "2    67\n",
       "3     4\n",
       "4    95\n",
       "dtype: int64"
      ]
     },
     "execution_count": 43,
     "metadata": {},
     "output_type": "execute_result"
    }
   ],
   "source": [
    "b.abs()"
   ]
  },
  {
   "cell_type": "code",
   "execution_count": 44,
   "id": "7879c99c",
   "metadata": {},
   "outputs": [
    {
     "data": {
      "text/plain": [
       "0   -10\n",
       "1     5\n",
       "2   -67\n",
       "3     4\n",
       "4    95\n",
       "dtype: int64"
      ]
     },
     "execution_count": 44,
     "metadata": {},
     "output_type": "execute_result"
    }
   ],
   "source": [
    "b"
   ]
  },
  {
   "cell_type": "code",
   "execution_count": 45,
   "id": "c3ecba63",
   "metadata": {},
   "outputs": [],
   "source": [
    "c = b.abs()"
   ]
  },
  {
   "cell_type": "code",
   "execution_count": 46,
   "id": "7fe74e0e",
   "metadata": {},
   "outputs": [
    {
     "data": {
      "text/plain": [
       "0    10\n",
       "1     5\n",
       "2    67\n",
       "3     4\n",
       "4    95\n",
       "dtype: int64"
      ]
     },
     "execution_count": 46,
     "metadata": {},
     "output_type": "execute_result"
    }
   ],
   "source": [
    "c"
   ]
  },
  {
   "cell_type": "code",
   "execution_count": null,
   "id": "5006a7da",
   "metadata": {},
   "outputs": [],
   "source": []
  }
 ],
 "metadata": {
  "kernelspec": {
   "display_name": "Python 3",
   "language": "python",
   "name": "python3"
  },
  "language_info": {
   "codemirror_mode": {
    "name": "ipython",
    "version": 3
   },
   "file_extension": ".py",
   "mimetype": "text/x-python",
   "name": "python",
   "nbconvert_exporter": "python",
   "pygments_lexer": "ipython3",
   "version": "3.8.8"
  }
 },
 "nbformat": 4,
 "nbformat_minor": 5
}
