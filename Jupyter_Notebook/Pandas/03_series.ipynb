{
 "cells": [
  {
   "cell_type": "markdown",
   "id": "ff748126",
   "metadata": {},
   "source": [
    "### Атрибуты класса Series"
   ]
  },
  {
   "cell_type": "markdown",
   "id": "20b86610",
   "metadata": {},
   "source": [
    "Атрибут - переменная, которая хранит какую-либо характеристику об обекте.\n",
    "К атрибутам обращаются."
   ]
  },
  {
   "cell_type": "code",
   "execution_count": 2,
   "id": "b929cb5b",
   "metadata": {},
   "outputs": [],
   "source": [
    "import pandas as pd"
   ]
  },
  {
   "cell_type": "code",
   "execution_count": 3,
   "id": "88a79a19",
   "metadata": {},
   "outputs": [],
   "source": [
    "names = ['Bob', 'Jack', 'Kevin', 'Robin']\n",
    "letters = 'b', 'j', 'k', 'r'\n",
    "numbers = [10, 20, 30, 40, 50]"
   ]
  },
  {
   "cell_type": "code",
   "execution_count": 20,
   "id": "9e207d20",
   "metadata": {},
   "outputs": [],
   "source": [
    "s = pd.Series(names)\n",
    "nums = pd.Series(numbers)\n",
    "s_letters = pd.Series(names, index=letters)"
   ]
  },
  {
   "cell_type": "markdown",
   "id": "bae84a77",
   "metadata": {},
   "source": [
    "Экземпляр класса \"Серий\" - строки:"
   ]
  },
  {
   "cell_type": "code",
   "execution_count": 21,
   "id": "650f84b5",
   "metadata": {
    "scrolled": true
   },
   "outputs": [
    {
     "data": {
      "text/plain": [
       "0      Bob\n",
       "1     Jack\n",
       "2    Kevin\n",
       "3    Robin\n",
       "dtype: object"
      ]
     },
     "execution_count": 21,
     "metadata": {},
     "output_type": "execute_result"
    }
   ],
   "source": [
    "s"
   ]
  },
  {
   "cell_type": "markdown",
   "id": "e3e9fe7b",
   "metadata": {},
   "source": [
    "Экземпляр класса \"Серий\" - числа:"
   ]
  },
  {
   "cell_type": "code",
   "execution_count": 22,
   "id": "1220c859",
   "metadata": {
    "scrolled": true
   },
   "outputs": [
    {
     "data": {
      "text/plain": [
       "0    10\n",
       "1    20\n",
       "2    30\n",
       "3    40\n",
       "4    50\n",
       "dtype: int64"
      ]
     },
     "execution_count": 22,
     "metadata": {},
     "output_type": "execute_result"
    }
   ],
   "source": [
    "nums"
   ]
  },
  {
   "cell_type": "markdown",
   "id": "4a94bff2",
   "metadata": {},
   "source": [
    "Получить значения - values:"
   ]
  },
  {
   "cell_type": "code",
   "execution_count": 23,
   "id": "e049a78b",
   "metadata": {},
   "outputs": [
    {
     "data": {
      "text/plain": [
       "array(['Bob', 'Jack', 'Kevin', 'Robin'], dtype=object)"
      ]
     },
     "execution_count": 23,
     "metadata": {},
     "output_type": "execute_result"
    }
   ],
   "source": [
    "s.values"
   ]
  },
  {
   "cell_type": "code",
   "execution_count": 24,
   "id": "c0d59b89",
   "metadata": {},
   "outputs": [
    {
     "data": {
      "text/plain": [
       "array([10, 20, 30, 40, 50], dtype=int64)"
      ]
     },
     "execution_count": 24,
     "metadata": {},
     "output_type": "execute_result"
    }
   ],
   "source": [
    "nums.values"
   ]
  },
  {
   "cell_type": "markdown",
   "id": "069cbf1d",
   "metadata": {},
   "source": [
    "Посмотреть атрибуты и методы: . + tab"
   ]
  },
  {
   "cell_type": "code",
   "execution_count": 25,
   "id": "160afc80",
   "metadata": {},
   "outputs": [
    {
     "data": {
      "text/plain": [
       "RangeIndex(start=0, stop=4, step=1)"
      ]
     },
     "execution_count": 25,
     "metadata": {},
     "output_type": "execute_result"
    }
   ],
   "source": [
    "s.index"
   ]
  },
  {
   "cell_type": "code",
   "execution_count": 26,
   "id": "a0616a0a",
   "metadata": {},
   "outputs": [
    {
     "data": {
      "text/plain": [
       "RangeIndex(start=0, stop=5, step=1)"
      ]
     },
     "execution_count": 26,
     "metadata": {},
     "output_type": "execute_result"
    }
   ],
   "source": [
    "nums.index"
   ]
  },
  {
   "cell_type": "markdown",
   "id": "bcb86a65",
   "metadata": {},
   "source": [
    "size - возвращает размер:"
   ]
  },
  {
   "cell_type": "code",
   "execution_count": 27,
   "id": "27c484d2",
   "metadata": {},
   "outputs": [
    {
     "data": {
      "text/plain": [
       "4"
      ]
     },
     "execution_count": 27,
     "metadata": {},
     "output_type": "execute_result"
    }
   ],
   "source": [
    "s.size"
   ]
  },
  {
   "cell_type": "code",
   "execution_count": 28,
   "id": "56e127ad",
   "metadata": {},
   "outputs": [
    {
     "data": {
      "text/plain": [
       "5"
      ]
     },
     "execution_count": 28,
     "metadata": {},
     "output_type": "execute_result"
    }
   ],
   "source": [
    "nums.size"
   ]
  },
  {
   "cell_type": "code",
   "execution_count": 29,
   "id": "0ffbc712",
   "metadata": {},
   "outputs": [
    {
     "data": {
      "text/plain": [
       "True"
      ]
     },
     "execution_count": 29,
     "metadata": {},
     "output_type": "execute_result"
    }
   ],
   "source": [
    "nums.is_unique"
   ]
  },
  {
   "cell_type": "code",
   "execution_count": 30,
   "id": "f71ec3ee",
   "metadata": {},
   "outputs": [
    {
     "data": {
      "text/plain": [
       "True"
      ]
     },
     "execution_count": 30,
     "metadata": {},
     "output_type": "execute_result"
    }
   ],
   "source": [
    "s.is_unique"
   ]
  },
  {
   "cell_type": "markdown",
   "id": "3f07823b",
   "metadata": {},
   "source": [
    "ndim - возвращает размерность - сколько колонок"
   ]
  },
  {
   "cell_type": "code",
   "execution_count": 19,
   "id": "ef5f9a6a",
   "metadata": {},
   "outputs": [
    {
     "data": {
      "text/plain": [
       "1"
      ]
     },
     "execution_count": 19,
     "metadata": {},
     "output_type": "execute_result"
    }
   ],
   "source": [
    "s.ndim"
   ]
  },
  {
   "cell_type": "code",
   "execution_count": 31,
   "id": "59da8ae5",
   "metadata": {},
   "outputs": [
    {
     "data": {
      "text/plain": [
       "b      Bob\n",
       "j     Jack\n",
       "k    Kevin\n",
       "r    Robin\n",
       "dtype: object"
      ]
     },
     "execution_count": 31,
     "metadata": {},
     "output_type": "execute_result"
    }
   ],
   "source": [
    "s_letters"
   ]
  },
  {
   "cell_type": "code",
   "execution_count": 32,
   "id": "1762bd6a",
   "metadata": {},
   "outputs": [
    {
     "data": {
      "text/plain": [
       "array(['Bob', 'Jack', 'Kevin', 'Robin'], dtype=object)"
      ]
     },
     "execution_count": 32,
     "metadata": {},
     "output_type": "execute_result"
    }
   ],
   "source": [
    "s_letters.values"
   ]
  },
  {
   "cell_type": "code",
   "execution_count": 33,
   "id": "26ef4dcd",
   "metadata": {},
   "outputs": [
    {
     "data": {
      "text/plain": [
       "Index(['b', 'j', 'k', 'r'], dtype='object')"
      ]
     },
     "execution_count": 33,
     "metadata": {},
     "output_type": "execute_result"
    }
   ],
   "source": [
    "s_letters.index"
   ]
  },
  {
   "cell_type": "code",
   "execution_count": null,
   "id": "497d15ea",
   "metadata": {},
   "outputs": [],
   "source": []
  }
 ],
 "metadata": {
  "kernelspec": {
   "display_name": "Python 3",
   "language": "python",
   "name": "python3"
  },
  "language_info": {
   "codemirror_mode": {
    "name": "ipython",
    "version": 3
   },
   "file_extension": ".py",
   "mimetype": "text/x-python",
   "name": "python",
   "nbconvert_exporter": "python",
   "pygments_lexer": "ipython3",
   "version": "3.8.8"
  }
 },
 "nbformat": 4,
 "nbformat_minor": 5
}
