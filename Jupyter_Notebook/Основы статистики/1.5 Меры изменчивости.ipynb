{
 "cells": [
  {
   "cell_type": "markdown",
   "metadata": {},
   "source": [
    "## 1.5 Меры изменчивости"
   ]
  },
  {
   "cell_type": "markdown",
   "metadata": {},
   "source": [
    "### task 1."
   ]
  },
  {
   "cell_type": "markdown",
   "metadata": {},
   "source": [
    "Укажите, в какой из выборок наибольшее стандартное отклонение:\n",
    "\n",
    "(1)  1 3 2 4 5 7 1 8 \n",
    "\n",
    "(2) 100 300 250 400 230 280 320 112\n",
    "\n",
    "(3) 15 10 13 7 28 31 20 32"
   ]
  },
  {
   "cell_type": "code",
   "execution_count": null,
   "metadata": {},
   "outputs": [],
   "source": [
    "import statistics\n",
    "import math\n",
    "\n",
    "data1= [1,3,2,4,5,7,1,8]\n",
    "math.sqrt(statistics.variance(data1))\n",
    "\n",
    "data2= [100,300,250,400,230,280,320,112]\n",
    "math.sqrt(statistics.variance(data2))\n",
    "\n",
    "data3=[15,10,13,7,28,31,20,32]\n",
    "math.sqrt(statistics.variance(data3))"
   ]
  },
  {
   "cell_type": "code",
   "execution_count": null,
   "metadata": {},
   "outputs": [],
   "source": [
    "def sd(x):\n",
    "    mid = sum(x)/len(x)\n",
    "    dev = 0\n",
    "    for i in x:\n",
    "        dev += (i-mid)**2\n",
    "    print((dev/(len(x)-1))**0.5)"
   ]
  },
  {
   "cell_type": "code",
   "execution_count": null,
   "metadata": {},
   "outputs": [],
   "source": [
    "first = np.array([1, 3, 2, 4, 5, 7, 1, 8])\n",
    "second = np.array([100, 300, 250, 400, 230, 280, 320, 112])\n",
    "third = np.array([15, 10, 13, 7, 28, 31, 20, 32])\n",
    "std_of_sample = list(map(np.std, [first, second, third]))\n",
    "print(std_of_sample)"
   ]
  },
  {
   "cell_type": "markdown",
   "metadata": {},
   "source": [
    "### task 2."
   ]
  },
  {
   "cell_type": "markdown",
   "metadata": {},
   "source": [
    "Рассчитайте среднеквадратическое отклонение данных выборочных значений:\n",
    "\n",
    "1 5 2 7 1 9 3 8 5 9\n",
    "\n",
    "Не забудьте, что при расчете дисперсии и среднеквадратичного отклонения мы вычитаем единицу из общего числа наблюдений!"
   ]
  },
  {
   "cell_type": "code",
   "execution_count": null,
   "metadata": {},
   "outputs": [],
   "source": [
    "list = [1, 5 ,2 ,7 ,1 ,9 ,3 ,8 ,5, 9]\n",
    "result = (sum([(x-(sum(list) / len(list)))**2 for x in list ])/(len(list)-1))**.5"
   ]
  },
  {
   "cell_type": "code",
   "execution_count": null,
   "metadata": {},
   "outputs": [],
   "source": [
    "# находим среднее значение\n",
    "def find_average(x):\n",
    "    return sum(x) / len(x)\n",
    "\n",
    "\n",
    "# находим размах\n",
    "def find_range(x):\n",
    "    x_copy = sorted(x)\n",
    "    return abs(x_copy[-1] - x_copy[0])\n",
    "\n",
    "# находим медиану\n",
    "def find_median(x):\n",
    "    if len(x) % 2 == 0:\n",
    "        return (x[len(x) // 2] + x[len(x) // 2 -1]) / 2\n",
    "    else:\n",
    "        return x[len(x) // 2]\n",
    "\n",
    "\n",
    "# находим дисперсию в генеральной совокупности\n",
    "def find_general_variance(x, x_average):\n",
    "    variance = 0\n",
    "    for i in x:\n",
    "        variance += (i - x_average) ** 2\n",
    "    return variance / len(x)\n",
    "\n",
    "\n",
    "# находим дисперсию в выборке\n",
    "def find_subgeneral_variance(x, x_average):\n",
    "    variance = 0\n",
    "    for i in x:\n",
    "        variance += (i - x_average) ** 2\n",
    "    return variance / (len(x) - 1)\n",
    "\n",
    "\n",
    "# возвращаем квадрат из числа\n",
    "def get_sqrt(x):\n",
    "    return x ** 0.5"
   ]
  }
 ],
 "metadata": {
  "kernelspec": {
   "display_name": "Python 3",
   "language": "python",
   "name": "python3"
  },
  "language_info": {
   "codemirror_mode": {
    "name": "ipython",
    "version": 3
   },
   "file_extension": ".py",
   "mimetype": "text/x-python",
   "name": "python",
   "nbconvert_exporter": "python",
   "pygments_lexer": "ipython3",
   "version": "3.7.4"
  }
 },
 "nbformat": 4,
 "nbformat_minor": 2
}
